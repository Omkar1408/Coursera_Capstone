{
 "cells": [
  {
   "cell_type": "code",
   "execution_count": 6,
   "metadata": {},
   "outputs": [
    {
     "name": "stdout",
     "output_type": "stream",
     "text": [
      "Solving environment: done\n",
      "\n",
      "## Package Plan ##\n",
      "\n",
      "  environment location: /opt/conda/envs/DSX-Python35\n",
      "\n",
      "  added / updated specs: \n",
      "    - folium=0.5.0\n",
      "\n",
      "\n",
      "The following packages will be downloaded:\n",
      "\n",
      "    package                    |            build\n",
      "    ---------------------------|-----------------\n",
      "    altair-2.2.2               |           py35_1         462 KB  conda-forge\n",
      "    ca-certificates-2019.6.16  |       hecc5488_0         145 KB  conda-forge\n",
      "    certifi-2018.8.24          |        py35_1001         139 KB  conda-forge\n",
      "    openssl-1.0.2r             |       h14c3975_0         3.1 MB  conda-forge\n",
      "    branca-0.3.1               |             py_0          25 KB  conda-forge\n",
      "    folium-0.5.0               |             py_0          45 KB  conda-forge\n",
      "    vincent-0.4.4              |             py_1          28 KB  conda-forge\n",
      "    ------------------------------------------------------------\n",
      "                                           Total:         4.0 MB\n",
      "\n",
      "The following NEW packages will be INSTALLED:\n",
      "\n",
      "    altair:          2.2.2-py35_1      conda-forge\n",
      "    branca:          0.3.1-py_0        conda-forge\n",
      "    folium:          0.5.0-py_0        conda-forge\n",
      "    vincent:         0.4.4-py_1        conda-forge\n",
      "\n",
      "The following packages will be UPDATED:\n",
      "\n",
      "    ca-certificates: 2019.1.23-0                   --> 2019.6.16-hecc5488_0 conda-forge\n",
      "    certifi:         2018.8.24-py35_1              --> 2018.8.24-py35_1001  conda-forge\n",
      "\n",
      "The following packages will be DOWNGRADED:\n",
      "\n",
      "    openssl:         1.0.2s-h7b6447c_0             --> 1.0.2r-h14c3975_0    conda-forge\n",
      "\n",
      "\n",
      "Downloading and Extracting Packages\n",
      "altair-2.2.2         | 462 KB    | ##################################### | 100% \n",
      "ca-certificates-2019 | 145 KB    | ##################################### | 100% \n",
      "certifi-2018.8.24    | 139 KB    | ##################################### | 100% \n",
      "openssl-1.0.2r       | 3.1 MB    | ##################################### | 100% \n",
      "branca-0.3.1         | 25 KB     | ##################################### | 100% \n",
      "folium-0.5.0         | 45 KB     | ##################################### | 100% \n",
      "vincent-0.4.4        | 28 KB     | ##################################### | 100% \n",
      "Preparing transaction: done\n",
      "Verifying transaction: done\n",
      "Executing transaction: done\n"
     ]
    }
   ],
   "source": [
    "#Data import\n",
    "\n",
    "##Import librairies\n",
    "import requests\n",
    "!conda install -c conda-forge folium=0.5.0 --yes\n",
    "import folium \n",
    "import pandas as pd\n",
    "import numpy as np\n",
    "from bs4 import BeautifulSoup\n",
    "import nltk\n",
    "import numpy as np\n",
    "import matplotlib.cm as cm\n",
    "import matplotlib.colors as colors\n",
    "from sklearn.cluster import KMeans\n",
    "##Get wikipedia data\n",
    "website_url = requests.get(\"https://en.wikipedia.org/wiki/List_of_postal_codes_of_Canada:_M\").text\n",
    "soup = BeautifulSoup(website_url,\"lxml\")\n",
    "My_table = soup.find(\"table\",{\"class\":\"wikitable sortable\"})"
   ]
  },
  {
   "cell_type": "code",
   "execution_count": 7,
   "metadata": {},
   "outputs": [
    {
     "data": {
      "text/html": [
       "<div>\n",
       "<style scoped>\n",
       "    .dataframe tbody tr th:only-of-type {\n",
       "        vertical-align: middle;\n",
       "    }\n",
       "\n",
       "    .dataframe tbody tr th {\n",
       "        vertical-align: top;\n",
       "    }\n",
       "\n",
       "    .dataframe thead th {\n",
       "        text-align: right;\n",
       "    }\n",
       "</style>\n",
       "<table border=\"1\" class=\"dataframe\">\n",
       "  <thead>\n",
       "    <tr style=\"text-align: right;\">\n",
       "      <th></th>\n",
       "      <th>PostalCode</th>\n",
       "      <th>Borough</th>\n",
       "      <th>Neighborhood</th>\n",
       "    </tr>\n",
       "  </thead>\n",
       "  <tbody>\n",
       "    <tr>\n",
       "      <th>0</th>\n",
       "      <td>M1A</td>\n",
       "      <td>Not assigned</td>\n",
       "      <td>Not assigned</td>\n",
       "    </tr>\n",
       "    <tr>\n",
       "      <th>1</th>\n",
       "      <td>M2A</td>\n",
       "      <td>Not assigned</td>\n",
       "      <td>Not assigned</td>\n",
       "    </tr>\n",
       "    <tr>\n",
       "      <th>2</th>\n",
       "      <td>M3A</td>\n",
       "      <td>North York</td>\n",
       "      <td>Parkwoods</td>\n",
       "    </tr>\n",
       "    <tr>\n",
       "      <th>3</th>\n",
       "      <td>M4A</td>\n",
       "      <td>North York</td>\n",
       "      <td>Victoria Village</td>\n",
       "    </tr>\n",
       "    <tr>\n",
       "      <th>4</th>\n",
       "      <td>M5A</td>\n",
       "      <td>Downtown Toronto</td>\n",
       "      <td>Harbourfront</td>\n",
       "    </tr>\n",
       "  </tbody>\n",
       "</table>\n",
       "</div>"
      ],
      "text/plain": [
       "  PostalCode           Borough      Neighborhood\n",
       "0        M1A      Not assigned     Not assigned\n",
       "\n",
       "1        M2A      Not assigned     Not assigned\n",
       "\n",
       "2        M3A        North York         Parkwoods\n",
       "3        M4A        North York  Victoria Village\n",
       "4        M5A  Downtown Toronto      Harbourfront"
      ]
     },
     "execution_count": 7,
     "metadata": {},
     "output_type": "execute_result"
    }
   ],
   "source": [
    "#Build DataFrame\n",
    "\n",
    "##Create DataFrame from 3 first columns\n",
    "PostalCode = []\n",
    "Borough = []\n",
    "Neighborhood = []\n",
    "df = pd.DataFrame()\n",
    "\n",
    "for row in My_table.findAll('tr'):\n",
    "    cells=row.findAll('td')\n",
    "    if len(cells) > 1:\n",
    "        A = cells[0].find(text=True)\n",
    "        B = cells[1].find(text=True)\n",
    "        C = cells[2].find(text=True)\n",
    "        PostalCode.append(A)\n",
    "        Borough.append(B)\n",
    "        Neighborhood.append(C)\n",
    "        \n",
    "df['PostalCode'] = PostalCode\n",
    "df['Borough'] = Borough\n",
    "df['Neighborhood'] = Neighborhood\n",
    "df.head()"
   ]
  },
  {
   "cell_type": "code",
   "execution_count": 8,
   "metadata": {},
   "outputs": [],
   "source": [
    "##Data Cleaning\n",
    "###Retrieve \"Not assigned\" Borough\n",
    "df = df[df['Borough'] != \"Not assigned\"]\n",
    "\n",
    "###Replace \"Not assigned\" Neighborhood\n",
    "for i in range(len(df['Borough'])):\n",
    "    if df['Neighborhood'].iloc[i] == \"Not assigned\":\n",
    "        df['Neighborhood'].iloc[i] = df['Borough'] .iloc[i] \n",
    "        \n",
    "        \n",
    "df = df.sort_values(by=['PostalCode'])\n",
    "\n",
    "m = len(df['PostalCode'])\n",
    "df2 = df\n",
    "\n",
    "###Save number of distinct value of Postal Code\n",
    "n = df['PostalCode'].nunique()"
   ]
  },
  {
   "cell_type": "code",
   "execution_count": 9,
   "metadata": {},
   "outputs": [],
   "source": [
    "###Remove duplicates and concatenate Neighborhood\n",
    "a = df['PostalCode'].iloc[0]\n",
    "b = df['Borough'].iloc[0] \n",
    "c = df['Neighborhood'].iloc[0]\n",
    "\n",
    "for i in range(m-1):\n",
    "    i = i + 1\n",
    "    if df['PostalCode'].iloc[i] != a:\n",
    "        df2['PostalCode'].iloc[i]  = df['PostalCode'].iloc[i] \n",
    "        df2['Borough'].iloc[i]  = df['Borough'].iloc[i] \n",
    "        df2['Neighborhood'].iloc[i]  = ', '.join(set(list(df[df['PostalCode'] == df['PostalCode'].iloc[i]]['Neighborhood'])))\n",
    "        a = df['PostalCode'].iloc[i]\n",
    "    else:\n",
    "        a = df['PostalCode'].iloc[i]\n",
    "        df2['PostalCode'].iloc[i]  = \"Not assigned\"\n",
    "        df2['Borough'].iloc[i]  = \"Not assigned\"\n",
    "        df2['Neighborhood'].iloc[i]  = \"Not assigned\""
   ]
  },
  {
   "cell_type": "code",
   "execution_count": 10,
   "metadata": {},
   "outputs": [],
   "source": [
    "###Clean duplicates\n",
    "df2 = df2[df2['Borough'] != \"Not assigned\"]"
   ]
  },
  {
   "cell_type": "code",
   "execution_count": 11,
   "metadata": {},
   "outputs": [
    {
     "data": {
      "text/plain": [
       "True"
      ]
     },
     "execution_count": 11,
     "metadata": {},
     "output_type": "execute_result"
    }
   ],
   "source": [
    "##Sanity checks\n",
    "###Sanity check df2 size is equal to distinct value of Postal Code\n",
    "n == len(df2['Borough'] )"
   ]
  },
  {
   "cell_type": "code",
   "execution_count": 12,
   "metadata": {},
   "outputs": [
    {
     "data": {
      "text/html": [
       "<div>\n",
       "<style scoped>\n",
       "    .dataframe tbody tr th:only-of-type {\n",
       "        vertical-align: middle;\n",
       "    }\n",
       "\n",
       "    .dataframe tbody tr th {\n",
       "        vertical-align: top;\n",
       "    }\n",
       "\n",
       "    .dataframe thead th {\n",
       "        text-align: right;\n",
       "    }\n",
       "</style>\n",
       "<table border=\"1\" class=\"dataframe\">\n",
       "  <thead>\n",
       "    <tr style=\"text-align: right;\">\n",
       "      <th></th>\n",
       "      <th>PostalCode</th>\n",
       "      <th>Borough</th>\n",
       "      <th>Neighborhood</th>\n",
       "    </tr>\n",
       "  </thead>\n",
       "  <tbody>\n",
       "    <tr>\n",
       "      <th>5</th>\n",
       "      <td>M5A</td>\n",
       "      <td>Downtown Toronto</td>\n",
       "      <td>Harbourfront, Regent Park</td>\n",
       "    </tr>\n",
       "  </tbody>\n",
       "</table>\n",
       "</div>"
      ],
      "text/plain": [
       "  PostalCode           Borough               Neighborhood\n",
       "5        M5A  Downtown Toronto  Harbourfront, Regent Park"
      ]
     },
     "execution_count": 12,
     "metadata": {},
     "output_type": "execute_result"
    }
   ],
   "source": [
    "###Sanity check on example \"M5A\"\n",
    "df2[df2['PostalCode'] == \"M5A\"]"
   ]
  },
  {
   "cell_type": "code",
   "execution_count": 13,
   "metadata": {},
   "outputs": [
    {
     "data": {
      "text/plain": [
       "(103, 3)"
      ]
     },
     "execution_count": 13,
     "metadata": {},
     "output_type": "execute_result"
    }
   ],
   "source": [
    "###Check the shape of the DataFrame\n",
    "df2.shape"
   ]
  },
  {
   "cell_type": "code",
   "execution_count": 14,
   "metadata": {},
   "outputs": [],
   "source": [
    "#Add latitue/longitude to DataFrame\n",
    "geo = pd.read_csv('http://cocl.us/Geospatial_data')"
   ]
  },
  {
   "cell_type": "code",
   "execution_count": 15,
   "metadata": {},
   "outputs": [
    {
     "data": {
      "text/html": [
       "<div>\n",
       "<style scoped>\n",
       "    .dataframe tbody tr th:only-of-type {\n",
       "        vertical-align: middle;\n",
       "    }\n",
       "\n",
       "    .dataframe tbody tr th {\n",
       "        vertical-align: top;\n",
       "    }\n",
       "\n",
       "    .dataframe thead th {\n",
       "        text-align: right;\n",
       "    }\n",
       "</style>\n",
       "<table border=\"1\" class=\"dataframe\">\n",
       "  <thead>\n",
       "    <tr style=\"text-align: right;\">\n",
       "      <th></th>\n",
       "      <th>PostalCode</th>\n",
       "      <th>Borough</th>\n",
       "      <th>Neighborhood</th>\n",
       "      <th>Postal Code</th>\n",
       "      <th>Latitude</th>\n",
       "      <th>Longitude</th>\n",
       "    </tr>\n",
       "  </thead>\n",
       "  <tbody>\n",
       "    <tr>\n",
       "      <th>0</th>\n",
       "      <td>M1B</td>\n",
       "      <td>Scarborough</td>\n",
       "      <td>Rouge</td>\n",
       "      <td>M1B</td>\n",
       "      <td>43.806686</td>\n",
       "      <td>-79.194353</td>\n",
       "    </tr>\n",
       "    <tr>\n",
       "      <th>1</th>\n",
       "      <td>M1C</td>\n",
       "      <td>Scarborough</td>\n",
       "      <td>Highland Creek, Rouge Hill, Port Union</td>\n",
       "      <td>M1C</td>\n",
       "      <td>43.784535</td>\n",
       "      <td>-79.160497</td>\n",
       "    </tr>\n",
       "    <tr>\n",
       "      <th>2</th>\n",
       "      <td>M1E</td>\n",
       "      <td>Scarborough</td>\n",
       "      <td>Morningside, Guildwood\\n, West Hill</td>\n",
       "      <td>M1E</td>\n",
       "      <td>43.763573</td>\n",
       "      <td>-79.188711</td>\n",
       "    </tr>\n",
       "    <tr>\n",
       "      <th>3</th>\n",
       "      <td>M1G</td>\n",
       "      <td>Scarborough</td>\n",
       "      <td>Woburn</td>\n",
       "      <td>M1G</td>\n",
       "      <td>43.770992</td>\n",
       "      <td>-79.216917</td>\n",
       "    </tr>\n",
       "    <tr>\n",
       "      <th>4</th>\n",
       "      <td>M1H</td>\n",
       "      <td>Scarborough</td>\n",
       "      <td>Cedarbrae\\n</td>\n",
       "      <td>M1H</td>\n",
       "      <td>43.773136</td>\n",
       "      <td>-79.239476</td>\n",
       "    </tr>\n",
       "  </tbody>\n",
       "</table>\n",
       "</div>"
      ],
      "text/plain": [
       "  PostalCode      Borough                            Neighborhood Postal Code  \\\n",
       "0        M1B  Scarborough                                   Rouge         M1B   \n",
       "1        M1C  Scarborough  Highland Creek, Rouge Hill, Port Union         M1C   \n",
       "2        M1E  Scarborough     Morningside, Guildwood\\n, West Hill         M1E   \n",
       "3        M1G  Scarborough                                  Woburn         M1G   \n",
       "4        M1H  Scarborough                             Cedarbrae\\n         M1H   \n",
       "\n",
       "    Latitude  Longitude  \n",
       "0  43.806686 -79.194353  \n",
       "1  43.784535 -79.160497  \n",
       "2  43.763573 -79.188711  \n",
       "3  43.770992 -79.216917  \n",
       "4  43.773136 -79.239476  "
      ]
     },
     "execution_count": 15,
     "metadata": {},
     "output_type": "execute_result"
    }
   ],
   "source": [
    "df_final =df2.merge(geo, right_on = 'Postal Code' , left_on = 'PostalCode' ,how='left')\n",
    "df_final.head()"
   ]
  },
  {
   "cell_type": "code",
   "execution_count": 16,
   "metadata": {},
   "outputs": [
    {
     "data": {
      "text/plain": [
       "FreqDist({'Central': 6,\n",
       "          'Downtown': 2,\n",
       "          'East': 9,\n",
       "          'North': 18,\n",
       "          'Scarborough': 17,\n",
       "          'Toronto': 12,\n",
       "          'York': 23})"
      ]
     },
     "execution_count": 16,
     "metadata": {},
     "output_type": "execute_result"
    }
   ],
   "source": [
    "#Clustering\n",
    "\n",
    "##Look at word frequency in Borough\n",
    "a =[]\n",
    "for i in range(52):\n",
    "    b = df2['Borough'].iloc[i].split()\n",
    "    for b in df2['Borough'].iloc[i].split():\n",
    "        a.append(b)\n",
    "\n",
    "nltk.FreqDist(a)\n",
    "\n",
    "### * We can perform clustering for Toronto, New York, Scarborough"
   ]
  },
  {
   "cell_type": "code",
   "execution_count": 17,
   "metadata": {},
   "outputs": [
    {
     "data": {
      "text/plain": [
       "[(',', 13),\n",
       " ('West', 6),\n",
       " ('The', 6),\n",
       " ('Park', 5),\n",
       " ('North', 4),\n",
       " ('Toronto', 4),\n",
       " ('South', 3),\n",
       " ('Hill', 3),\n",
       " ('Forest', 3),\n",
       " ('Parkdale', 2)]"
      ]
     },
     "execution_count": 17,
     "metadata": {},
     "output_type": "execute_result"
    }
   ],
   "source": [
    "#Toronto\n",
    "\n",
    "df_Toronto = df_final[df_final['Borough'].str.contains('Toronto')]\n",
    "\n",
    "##Look at word frequency in Neighborhood\n",
    "a =[]\n",
    "for i in range(len(df_Toronto['Neighborhood'])):\n",
    "    b = df_Toronto['Neighborhood'].iloc[i].split()\n",
    "    for b in df_Toronto['Neighborhood'].iloc[i].split():\n",
    "        a.append(b)\n",
    "nltk.FreqDist(a).most_common(10)\n",
    "\n",
    "### * We can set a k value under 6 based on neighborhoud word occurences"
   ]
  },
  {
   "cell_type": "code",
   "execution_count": 18,
   "metadata": {},
   "outputs": [
    {
     "name": "stderr",
     "output_type": "stream",
     "text": [
      "/opt/conda/envs/DSX-Python35/lib/python3.5/site-packages/ipykernel/__main__.py:4: SettingWithCopyWarning: \n",
      "A value is trying to be set on a copy of a slice from a DataFrame.\n",
      "Try using .loc[row_indexer,col_indexer] = value instead\n",
      "\n",
      "See the caveats in the documentation: http://pandas.pydata.org/pandas-docs/stable/indexing.html#indexing-view-versus-copy\n"
     ]
    },
    {
     "data": {
      "text/plain": [
       "array([3, 5, 3, 5, 0, 0, 0, 0, 0, 0, 5, 5, 2, 5, 2, 2, 2, 2, 2, 2, 2, 2, 0,\n",
       "       0, 4, 4, 4, 2, 2, 2, 4, 1, 4, 4, 1, 1, 1, 3], dtype=int32)"
      ]
     },
     "execution_count": 18,
     "metadata": {},
     "output_type": "execute_result"
    }
   ],
   "source": [
    "## K clustering\n",
    "Features = ['Latitude','Longitude']\n",
    "kmeans = KMeans(n_clusters= 6, random_state=0).fit(df_Toronto[Features],df_Toronto['Borough'])\n",
    "df_Toronto['clusters']=kmeans.labels_\n",
    "kmeans.labels_"
   ]
  },
  {
   "cell_type": "code",
   "execution_count": 19,
   "metadata": {},
   "outputs": [
    {
     "data": {
      "text/html": [
       "<div style=\"width:100%;\"><div style=\"position:relative;width:100%;height:0;padding-bottom:60%;\"><iframe src=\"data:text/html;charset=utf-8;base64,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\" style=\"position:absolute;width:100%;height:100%;left:0;top:0;border:none !important;\" allowfullscreen webkitallowfullscreen mozallowfullscreen></iframe></div></div>"
      ],
      "text/plain": [
       "<folium.folium.Map at 0x7f7827b45e48>"
      ]
     },
     "execution_count": 19,
     "metadata": {},
     "output_type": "execute_result"
    }
   ],
   "source": [
    "## Mapping\n",
    "\n",
    "local_map = folium.Map(location=[43.654438,-79.380699], zoom_start=14)\n",
    "\n",
    "for lat, lon, nei, cluster in zip(df_Toronto['Latitude'], df_Toronto['Longitude'], df_Toronto['Neighborhood'],df_Toronto['clusters']):\n",
    "    label = folium.Popup(str(nei) + ' Cluster ' + str(cluster), parse_html=True)\n",
    "    folium.CircleMarker([lat, lon],radius=5,popup=label,fill=True,fill_opacity=0.7).add_to(local_map)\n",
    "   \n",
    "local_map"
   ]
  },
  {
   "cell_type": "code",
   "execution_count": 20,
   "metadata": {},
   "outputs": [
    {
     "data": {
      "text/plain": [
       "[(',', 7),\n",
       " ('West', 4),\n",
       " ('Rouge', 3),\n",
       " ('Scarborough', 3),\n",
       " ('East', 3),\n",
       " ('Park', 3),\n",
       " (\"L'Amoreaux\", 2),\n",
       " ('Wexford', 2),\n",
       " ('Agincourt', 2),\n",
       " ('Village', 2)]"
      ]
     },
     "execution_count": 20,
     "metadata": {},
     "output_type": "execute_result"
    }
   ],
   "source": [
    "#SCARBOROUGH\n",
    "\n",
    "df_SCARBOROUGH = df_final[df_final['Borough'].str.contains('Scarborough')]\n",
    "\n",
    "##Look at word frequency in Neighborhood\n",
    "a =[]\n",
    "for i in range(len(df_SCARBOROUGH['Neighborhood'])):\n",
    "    b = df_SCARBOROUGH['Neighborhood'].iloc[i].split()\n",
    "    for b in df_SCARBOROUGH['Neighborhood'].iloc[i].split():\n",
    "        a.append(b)\n",
    "nltk.FreqDist(a).most_common(10)"
   ]
  },
  {
   "cell_type": "code",
   "execution_count": 21,
   "metadata": {},
   "outputs": [
    {
     "name": "stderr",
     "output_type": "stream",
     "text": [
      "/opt/conda/envs/DSX-Python35/lib/python3.5/site-packages/ipykernel/__main__.py:5: SettingWithCopyWarning: \n",
      "A value is trying to be set on a copy of a slice from a DataFrame.\n",
      "Try using .loc[row_indexer,col_indexer] = value instead\n",
      "\n",
      "See the caveats in the documentation: http://pandas.pydata.org/pandas-docs/stable/indexing.html#indexing-view-versus-copy\n"
     ]
    },
    {
     "data": {
      "text/plain": [
       "array([2, 5, 5, 3, 3, 3, 1, 1, 1, 1, 4, 4, 0, 0, 0, 0, 2], dtype=int32)"
      ]
     },
     "execution_count": 21,
     "metadata": {},
     "output_type": "execute_result"
    }
   ],
   "source": [
    "### * We can set a k value under 6 based on neighborhoud word occurences\n",
    "## K clustering\n",
    "Features = ['Latitude','Longitude']\n",
    "kmeans = KMeans(n_clusters= 6, random_state=0).fit(df_SCARBOROUGH[Features],df_final['Borough'])\n",
    "df_SCARBOROUGH['clusters']=kmeans.labels_\n",
    "kmeans.labels_"
   ]
  },
  {
   "cell_type": "code",
   "execution_count": 22,
   "metadata": {},
   "outputs": [
    {
     "data": {
      "text/html": [
       "<div style=\"width:100%;\"><div style=\"position:relative;width:100%;height:0;padding-bottom:60%;\"><iframe src=\"data:text/html;charset=utf-8;base64,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\" style=\"position:absolute;width:100%;height:100%;left:0;top:0;border:none !important;\" allowfullscreen webkitallowfullscreen mozallowfullscreen></iframe></div></div>"
      ],
      "text/plain": [
       "<folium.folium.Map at 0x7f7827b52d68>"
      ]
     },
     "execution_count": 22,
     "metadata": {},
     "output_type": "execute_result"
    }
   ],
   "source": [
    "## Mapping\n",
    "\n",
    "local_map = folium.Map(location=[43.774438,-79.233238], zoom_start=12)\n",
    "markers_colors = []\n",
    "for lat, lon, nei, cluster in zip(df_SCARBOROUGH['Latitude'], df_SCARBOROUGH['Longitude'], df_SCARBOROUGH['Neighborhood'],df_SCARBOROUGH['clusters']):\n",
    "    label = folium.Popup(str(nei) + ' Cluster ' + str(cluster), parse_html=True)\n",
    "    folium.CircleMarker([lat, lon],radius=5,popup=label,fill=True,fill_opacity=0.7).add_to(local_map)\n",
    "   \n",
    "local_map"
   ]
  },
  {
   "cell_type": "code",
   "execution_count": null,
   "metadata": {},
   "outputs": [],
   "source": []
  }
 ],
 "metadata": {
  "kernelspec": {
   "display_name": "Python 3.5",
   "language": "python",
   "name": "python3"
  },
  "language_info": {
   "codemirror_mode": {
    "name": "ipython",
    "version": 3
   },
   "file_extension": ".py",
   "mimetype": "text/x-python",
   "name": "python",
   "nbconvert_exporter": "python",
   "pygments_lexer": "ipython3",
   "version": "3.5.5"
  }
 },
 "nbformat": 4,
 "nbformat_minor": 1
}
